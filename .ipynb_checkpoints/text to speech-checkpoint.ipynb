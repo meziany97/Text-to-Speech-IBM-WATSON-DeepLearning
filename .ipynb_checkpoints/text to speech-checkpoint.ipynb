{
 "cells": [
  {
   "cell_type": "code",
   "execution_count": 1,
   "id": "645de6eb",
   "metadata": {},
   "outputs": [],
   "source": [
    "url='https://api.au-syd.text-to-speech.watson.cloud.ibm.com/instances/d5f55c54-a6a7-488e-98e1-b80a2e31bb43'\n",
    "apikey='XZCth2ve7pZJDc0hNFdNf6F4agZrKd8LYL5ELWb6x2-W'"
   ]
  },
  {
   "cell_type": "code",
   "execution_count": 4,
   "id": "0bd8cc22",
   "metadata": {},
   "outputs": [],
   "source": [
    "from ibm_watson import TextToSpeechV1\n",
    "from ibm_cloud_sdk_core.authenticators import IAMAuthenticator"
   ]
  },
  {
   "cell_type": "code",
   "execution_count": 5,
   "id": "5a0b5271",
   "metadata": {},
   "outputs": [],
   "source": [
    "# setup service\n",
    "authenticator  =IAMAuthenticator(apikey)\n",
    "# new tts service\n",
    "tts = TextToSpeechV1(authenticator)\n",
    "# set Service url \n",
    "tts.set_service_url(url)"
   ]
  },
  {
   "cell_type": "markdown",
   "id": "bbb47680",
   "metadata": {},
   "source": [
    "# read string"
   ]
  },
  {
   "cell_type": "code",
   "execution_count": 9,
   "id": "1cfe19c5",
   "metadata": {},
   "outputs": [],
   "source": [
    "with open('./speech.mp3','wb') as audio_file:\n",
    "    res = tts.synthesize('hello world', accept='audio/mp3', voice='en-US_AllisonV3Voice').get_result()\n",
    "    audio_file.write(res.content)"
   ]
  },
  {
   "cell_type": "markdown",
   "id": "adeca94e",
   "metadata": {},
   "source": [
    "# read text from file"
   ]
  },
  {
   "cell_type": "code",
   "execution_count": 16,
   "id": "fe1478b1",
   "metadata": {},
   "outputs": [],
   "source": [
    "with open('hello.txt','r') as f:\n",
    "    text=f.readlines()"
   ]
  },
  {
   "cell_type": "code",
   "execution_count": 19,
   "id": "41a851fc",
   "metadata": {},
   "outputs": [
    {
     "data": {
      "text/plain": [
       "'hello,What is artificial intelligence? Artificial intelligence (AI) is the ability of a computer or a robot controlled by a computer to do tasks that are usually done by humans because they require human intelligence and discernment.'"
      ]
     },
     "execution_count": 19,
     "metadata": {},
     "output_type": "execute_result"
    }
   ],
   "source": [
    "text=''.join(str(line) for line in text)\n",
    "text"
   ]
  },
  {
   "cell_type": "markdown",
   "id": "7d061eae",
   "metadata": {},
   "source": [
    "# convert text to speech"
   ]
  },
  {
   "cell_type": "code",
   "execution_count": 20,
   "id": "4607af55",
   "metadata": {},
   "outputs": [],
   "source": [
    "with open('./speech3.mp3','wb') as audio_file:\n",
    "    res = tts.synthesize(text, accept='audio/mp3', voice='en-US_AllisonV3Voice').get_result()\n",
    "    audio_file.write(res.content)"
   ]
  },
  {
   "cell_type": "code",
   "execution_count": null,
   "id": "f63dfb7e",
   "metadata": {},
   "outputs": [],
   "source": []
  }
 ],
 "metadata": {
  "kernelspec": {
   "display_name": "Python 3 (ipykernel)",
   "language": "python",
   "name": "python3"
  },
  "language_info": {
   "codemirror_mode": {
    "name": "ipython",
    "version": 3
   },
   "file_extension": ".py",
   "mimetype": "text/x-python",
   "name": "python",
   "nbconvert_exporter": "python",
   "pygments_lexer": "ipython3",
   "version": "3.9.7"
  }
 },
 "nbformat": 4,
 "nbformat_minor": 5
}
